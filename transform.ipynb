{
 "cells": [
  {
   "cell_type": "code",
   "execution_count": 32,
   "metadata": {},
   "outputs": [],
   "source": [
    "import pandas as pd\n",
    "import numpy as np\n",
    "import matplotlib.pyplot as plt"
   ]
  },
  {
   "cell_type": "code",
   "execution_count": 33,
   "metadata": {},
   "outputs": [],
   "source": [
    "data_enero = pd.read_csv('./datasets/147_enero.csv', sep=';')\n",
    "data_agosto = pd.read_csv('./datasets/147_agosto.csv', sep=';')\n",
    "data_junio = pd.read_csv('./datasets/147_junio.csv', sep=';')\n",
    "data = pd.concat([data_enero, data_agosto, data_junio], ignore_index=True)\n",
    "poblaciones = pd.read_csv('./datasets/caba_pob_barrios_2010.csv')\n",
    "delitos = pd.read_csv('./datasets/delitos_2021.csv', sep=';')"
   ]
  },
  {
   "cell_type": "code",
   "execution_count": 34,
   "metadata": {},
   "outputs": [],
   "source": [
    "delitos_cant = pd.read_csv(\"datasets/delitos_2021_cantidad.csv\", sep=\";\")\n",
    "denuncias_cant = pd.read_csv(\"datasets/147_merge_denuncias.csv\", sep=\";\")\n",
    "delitos_denuncias_merge = pd.merge(\n",
    "    delitos_cant, denuncias_cant, on=\"BARRIO\", how=\"inner\")\n"
   ]
  },
  {
   "cell_type": "code",
   "execution_count": 35,
   "metadata": {},
   "outputs": [],
   "source": [
    "delitos_denuncias_merge = delitos_denuncias_merge.drop(['POBLACION_x'], axis=1).rename(columns={'POBLACION_y': 'POBLACION', 'CANTIDAD':'CANTIDAD_DELITOS'})\n",
    "\n"
   ]
  },
  {
   "cell_type": "code",
   "execution_count": 36,
   "metadata": {},
   "outputs": [
    {
     "data": {
      "text/html": [
       "<div>\n",
       "<style scoped>\n",
       "    .dataframe tbody tr th:only-of-type {\n",
       "        vertical-align: middle;\n",
       "    }\n",
       "\n",
       "    .dataframe tbody tr th {\n",
       "        vertical-align: top;\n",
       "    }\n",
       "\n",
       "    .dataframe thead th {\n",
       "        text-align: right;\n",
       "    }\n",
       "</style>\n",
       "<table border=\"1\" class=\"dataframe\">\n",
       "  <thead>\n",
       "    <tr style=\"text-align: right;\">\n",
       "      <th></th>\n",
       "      <th>BARRIO</th>\n",
       "      <th>CANTIDAD_DELITOS</th>\n",
       "      <th>PUNTAJE_x</th>\n",
       "      <th>POBLACION</th>\n",
       "      <th>CANTIDAD_RECLAMOS</th>\n",
       "      <th>PUNTAJE_y</th>\n",
       "    </tr>\n",
       "  </thead>\n",
       "  <tbody>\n",
       "    <tr>\n",
       "      <th>0</th>\n",
       "      <td>PALERMO</td>\n",
       "      <td>7785</td>\n",
       "      <td>34.365702</td>\n",
       "      <td>226534</td>\n",
       "      <td>1860</td>\n",
       "      <td>0.821069</td>\n",
       "    </tr>\n",
       "    <tr>\n",
       "      <th>1</th>\n",
       "      <td>FLORES</td>\n",
       "      <td>4842</td>\n",
       "      <td>29.468687</td>\n",
       "      <td>164310</td>\n",
       "      <td>1192</td>\n",
       "      <td>0.725458</td>\n",
       "    </tr>\n",
       "    <tr>\n",
       "      <th>2</th>\n",
       "      <td>RECOLETA</td>\n",
       "      <td>4397</td>\n",
       "      <td>27.841096</td>\n",
       "      <td>157932</td>\n",
       "      <td>869</td>\n",
       "      <td>0.550237</td>\n",
       "    </tr>\n",
       "    <tr>\n",
       "      <th>3</th>\n",
       "      <td>CABALLITO</td>\n",
       "      <td>4046</td>\n",
       "      <td>22.978714</td>\n",
       "      <td>176076</td>\n",
       "      <td>1420</td>\n",
       "      <td>0.806470</td>\n",
       "    </tr>\n",
       "    <tr>\n",
       "      <th>4</th>\n",
       "      <td>ALMAGRO</td>\n",
       "      <td>3590</td>\n",
       "      <td>27.259129</td>\n",
       "      <td>131699</td>\n",
       "      <td>883</td>\n",
       "      <td>0.670468</td>\n",
       "    </tr>\n",
       "    <tr>\n",
       "      <th>5</th>\n",
       "      <td>BELGRANO</td>\n",
       "      <td>3030</td>\n",
       "      <td>23.996769</td>\n",
       "      <td>126267</td>\n",
       "      <td>1106</td>\n",
       "      <td>0.875922</td>\n",
       "    </tr>\n",
       "    <tr>\n",
       "      <th>6</th>\n",
       "      <td>BARRACAS</td>\n",
       "      <td>2864</td>\n",
       "      <td>32.017171</td>\n",
       "      <td>89452</td>\n",
       "      <td>391</td>\n",
       "      <td>0.437106</td>\n",
       "    </tr>\n",
       "    <tr>\n",
       "      <th>7</th>\n",
       "      <td>NUÑEZ</td>\n",
       "      <td>1424</td>\n",
       "      <td>27.411500</td>\n",
       "      <td>51949</td>\n",
       "      <td>512</td>\n",
       "      <td>0.985582</td>\n",
       "    </tr>\n",
       "    <tr>\n",
       "      <th>8</th>\n",
       "      <td>PUERTO MADERO</td>\n",
       "      <td>229</td>\n",
       "      <td>34.046982</td>\n",
       "      <td>6726</td>\n",
       "      <td>41</td>\n",
       "      <td>0.609575</td>\n",
       "    </tr>\n",
       "  </tbody>\n",
       "</table>\n",
       "</div>"
      ],
      "text/plain": [
       "          BARRIO  CANTIDAD_DELITOS  PUNTAJE_x  POBLACION  CANTIDAD_RECLAMOS  \\\n",
       "0        PALERMO              7785  34.365702     226534               1860   \n",
       "1         FLORES              4842  29.468687     164310               1192   \n",
       "2       RECOLETA              4397  27.841096     157932                869   \n",
       "3      CABALLITO              4046  22.978714     176076               1420   \n",
       "4        ALMAGRO              3590  27.259129     131699                883   \n",
       "5       BELGRANO              3030  23.996769     126267               1106   \n",
       "6       BARRACAS              2864  32.017171      89452                391   \n",
       "7          NUÑEZ              1424  27.411500      51949                512   \n",
       "8  PUERTO MADERO               229  34.046982       6726                 41   \n",
       "\n",
       "   PUNTAJE_y  \n",
       "0   0.821069  \n",
       "1   0.725458  \n",
       "2   0.550237  \n",
       "3   0.806470  \n",
       "4   0.670468  \n",
       "5   0.875922  \n",
       "6   0.437106  \n",
       "7   0.985582  \n",
       "8   0.609575  "
      ]
     },
     "execution_count": 36,
     "metadata": {},
     "output_type": "execute_result"
    }
   ],
   "source": [
    "delitos_denuncias_merge"
   ]
  },
  {
   "cell_type": "code",
   "execution_count": 37,
   "metadata": {},
   "outputs": [],
   "source": [
    "\n",
    "denuncias_cant = denuncias_cant[denuncias_cant['BARRIO'].isin([\n",
    "    'PALERMO', 'BARRACAS', 'RECOLETA', 'BELGRANO', 'CABALLITO', 'FLORES', 'ALMAGRO', 'NUÑEZ', 'PUERTO MADERO'])]\n"
   ]
  },
  {
   "cell_type": "code",
   "execution_count": 38,
   "metadata": {},
   "outputs": [],
   "source": [
    "sum_denuncias = denuncias_cant.CANTIDAD_RECLAMOS.sum()\n",
    "sum_delitos = delitos_cant.CANTIDAD.sum()"
   ]
  },
  {
   "cell_type": "code",
   "execution_count": 39,
   "metadata": {},
   "outputs": [],
   "source": [
    "for i in range(0, 11):\n",
    "    delitos_denuncias_merge['pond_{}'.format(i)] = (((delitos_denuncias_merge['CANTIDAD_DELITOS'] / sum_delitos)*i/10 + (\n",
    "        delitos_denuncias_merge['CANTIDAD_RECLAMOS'] / sum_denuncias)*(1-i/10))/delitos_denuncias_merge['POBLACION'])*100000\n"
   ]
  },
  {
   "cell_type": "code",
   "execution_count": 15,
   "metadata": {},
   "outputs": [],
   "source": [
    "delitos = delitos.value_counts('barrio').reset_index(\n",
    "    name='CANTIDAD').rename(columns={'barrio': 'BARRIO'})\n",
    "delitos.BARRIO = delitos.BARRIO.apply(lambda x: x.upper())\n",
    "delitos = delitos.merge(poblaciones, on='BARRIO', how='left')\n",
    "delitos['PUNTAJE'] = (delitos.CANTIDAD / delitos.POBLACION)*1000"
   ]
  },
  {
   "cell_type": "code",
   "execution_count": 16,
   "metadata": {},
   "outputs": [
    {
     "data": {
      "text/plain": [
       "LIMPIEZA Y RECOLECCIÓN                   11648\n",
       "TRÁNSITO                                  8280\n",
       "CALLES Y VEREDAS                          2687\n",
       "BARRIOS EMERGENTES                        2441\n",
       "ARBOLADO Y ESPACIOS VERDES                2287\n",
       "TRÁMITES Y SERVICIOS                      1258\n",
       "ALUMBRADO                                  830\n",
       "ORDENAMIENTO DEL ESPACIO PÚBLICO           781\n",
       "RECICLADO Y PROTECCIÓN AMBIENTAL           709\n",
       "CONTROL EDILICIO, OBRAS Y CATASTRO         495\n",
       "FISCALIZACIÓN ACTIVIDADES COMERCIALES      493\n",
       "MEDIOS DE TRANSPORTE                       464\n",
       "PLUVIALES                                  120\n",
       "SEGURIDAD                                  116\n",
       "SALUD Y SERVICIOS SOCIALES                 115\n",
       "DESARROLLO URBANO                           26\n",
       "TERRENO BALDÍO                              21\n",
       "LOTBA                                        2\n",
       "EDUCACION                                    1\n",
       "Name: categoria, dtype: int64"
      ]
     },
     "execution_count": 16,
     "metadata": {},
     "output_type": "execute_result"
    }
   ],
   "source": [
    "data.categoria.value_counts()"
   ]
  },
  {
   "cell_type": "code",
   "execution_count": 17,
   "metadata": {},
   "outputs": [],
   "source": [
    "data = data[data['domicilio_barrio'].isin([\n",
    "    'PALERMO', 'BARRACAS', 'RECOLETA', 'BELGRANO', 'CABALLITO', 'FLORES', 'ALMAGRO', 'NUÑEZ', 'PUERTO MADERO'])]\n"
   ]
  },
  {
   "cell_type": "code",
   "execution_count": 18,
   "metadata": {},
   "outputs": [],
   "source": [
    "data = data[data['categoria'].isin(['TRÁNSITO', 'LIMPIEZA Y RECOLECCIÓN', 'CALLES Y VEREDAS', 'ORDENAMIENTO DEL ESPACIO PÚBLICO','SEGURIDAD'])]"
   ]
  },
  {
   "cell_type": "code",
   "execution_count": 19,
   "metadata": {},
   "outputs": [],
   "source": [
    "poblaciones = poblaciones[poblaciones['BARRIO'].isin([\n",
    "    'PALERMO', 'BARRACAS', 'RECOLETA', 'BELGRANO', 'CABALLITO', 'FLORES', 'ALMAGRO', 'NUÑEZ', 'PUERTO MADERO'])]\n"
   ]
  },
  {
   "cell_type": "code",
   "execution_count": 20,
   "metadata": {},
   "outputs": [],
   "source": [
    "data.domicilio_barrio.value_counts()\n",
    "data_counts = data.domicilio_barrio.value_counts()\n",
    "data_counts = data_counts.sort_index()\n",
    "data_counts = data_counts.values\n"
   ]
  },
  {
   "cell_type": "code",
   "execution_count": 21,
   "metadata": {},
   "outputs": [
    {
     "data": {
      "text/html": [
       "<div>\n",
       "<style scoped>\n",
       "    .dataframe tbody tr th:only-of-type {\n",
       "        vertical-align: middle;\n",
       "    }\n",
       "\n",
       "    .dataframe tbody tr th {\n",
       "        vertical-align: top;\n",
       "    }\n",
       "\n",
       "    .dataframe thead th {\n",
       "        text-align: right;\n",
       "    }\n",
       "</style>\n",
       "<table border=\"1\" class=\"dataframe\">\n",
       "  <thead>\n",
       "    <tr style=\"text-align: right;\">\n",
       "      <th></th>\n",
       "      <th>BARRIO</th>\n",
       "      <th>POBLACION</th>\n",
       "      <th>CANTIDAD_RECLAMOS</th>\n",
       "      <th>PUNTAJE</th>\n",
       "    </tr>\n",
       "  </thead>\n",
       "  <tbody>\n",
       "    <tr>\n",
       "      <th>1</th>\n",
       "      <td>BARRACAS</td>\n",
       "      <td>89452</td>\n",
       "      <td>391</td>\n",
       "      <td>0.437106</td>\n",
       "    </tr>\n",
       "    <tr>\n",
       "      <th>8</th>\n",
       "      <td>RECOLETA</td>\n",
       "      <td>157932</td>\n",
       "      <td>869</td>\n",
       "      <td>0.550237</td>\n",
       "    </tr>\n",
       "    <tr>\n",
       "      <th>7</th>\n",
       "      <td>PUERTO MADERO</td>\n",
       "      <td>6726</td>\n",
       "      <td>41</td>\n",
       "      <td>0.609575</td>\n",
       "    </tr>\n",
       "    <tr>\n",
       "      <th>0</th>\n",
       "      <td>ALMAGRO</td>\n",
       "      <td>131699</td>\n",
       "      <td>883</td>\n",
       "      <td>0.670468</td>\n",
       "    </tr>\n",
       "    <tr>\n",
       "      <th>4</th>\n",
       "      <td>FLORES</td>\n",
       "      <td>164310</td>\n",
       "      <td>1192</td>\n",
       "      <td>0.725458</td>\n",
       "    </tr>\n",
       "    <tr>\n",
       "      <th>3</th>\n",
       "      <td>CABALLITO</td>\n",
       "      <td>176076</td>\n",
       "      <td>1420</td>\n",
       "      <td>0.806470</td>\n",
       "    </tr>\n",
       "    <tr>\n",
       "      <th>6</th>\n",
       "      <td>PALERMO</td>\n",
       "      <td>226534</td>\n",
       "      <td>1860</td>\n",
       "      <td>0.821069</td>\n",
       "    </tr>\n",
       "    <tr>\n",
       "      <th>2</th>\n",
       "      <td>BELGRANO</td>\n",
       "      <td>126267</td>\n",
       "      <td>1106</td>\n",
       "      <td>0.875922</td>\n",
       "    </tr>\n",
       "    <tr>\n",
       "      <th>5</th>\n",
       "      <td>NUÑEZ</td>\n",
       "      <td>51949</td>\n",
       "      <td>512</td>\n",
       "      <td>0.985582</td>\n",
       "    </tr>\n",
       "  </tbody>\n",
       "</table>\n",
       "</div>"
      ],
      "text/plain": [
       "          BARRIO  POBLACION  CANTIDAD_RECLAMOS   PUNTAJE\n",
       "1       BARRACAS      89452                391  0.437106\n",
       "8       RECOLETA     157932                869  0.550237\n",
       "7  PUERTO MADERO       6726                 41  0.609575\n",
       "0        ALMAGRO     131699                883  0.670468\n",
       "4         FLORES     164310               1192  0.725458\n",
       "3      CABALLITO     176076               1420  0.806470\n",
       "6        PALERMO     226534               1860  0.821069\n",
       "2       BELGRANO     126267               1106  0.875922\n",
       "5          NUÑEZ      51949                512  0.985582"
      ]
     },
     "execution_count": 21,
     "metadata": {},
     "output_type": "execute_result"
    }
   ],
   "source": [
    "poblaciones['CANTIDAD_RECLAMOS'] = data_counts\n",
    "poblaciones['PUNTAJE'] = poblaciones['CANTIDAD_RECLAMOS'] / poblaciones['POBLACION'] * 100\n",
    "poblaciones = poblaciones.reset_index(drop = True)\n",
    "poblaciones.to_csv('147_merge_denuncias_total.csv', sep=';', index=False)\n",
    "poblaciones.sort_values(by=['PUNTAJE'], ascending=True)\n"
   ]
  }
 ],
 "metadata": {
  "kernelspec": {
   "display_name": "Python 3",
   "language": "python",
   "name": "python3"
  },
  "language_info": {
   "codemirror_mode": {
    "name": "ipython",
    "version": 3
   },
   "file_extension": ".py",
   "mimetype": "text/x-python",
   "name": "python",
   "nbconvert_exporter": "python",
   "pygments_lexer": "ipython3",
   "version": "3.10.2"
  },
  "orig_nbformat": 4
 },
 "nbformat": 4,
 "nbformat_minor": 2
}
