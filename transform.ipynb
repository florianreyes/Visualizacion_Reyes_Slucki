{
 "cells": [
  {
   "cell_type": "code",
   "execution_count": 2,
   "metadata": {},
   "outputs": [],
   "source": [
    "import pandas as pd\n",
    "import numpy as np\n",
    "import matplotlib.pyplot as plt"
   ]
  },
  {
   "cell_type": "code",
   "execution_count": 56,
   "metadata": {},
   "outputs": [],
   "source": [
    "data_enero = pd.read_csv('./datasets/147_enero.csv', sep=';')\n",
    "data_agosto = pd.read_csv('./datasets/147_agosto.csv', sep=';')\n",
    "data_junio = pd.read_csv('./datasets/147_junio.csv', sep=';')\n",
    "data = pd.concat([data_enero, data_agosto, data_junio], ignore_index=True)\n",
    "poblaciones = pd.read_csv('./datasets/caba_pob_barrios_2010.csv')\n",
    "delitos = pd.read_csv('./datasets/delitos_2021.csv', sep=';')\n",
    "ratas = pd.read_csv('./datasets/desratizacion.csv', sep=';')\n"
   ]
  },
  {
   "cell_type": "code",
   "execution_count": 3,
   "metadata": {},
   "outputs": [],
   "source": [
    "ratas = pd.read_csv('./datasets/desratizacion.csv', sep=';')\n"
   ]
  },
  {
   "cell_type": "code",
   "execution_count": 72,
   "metadata": {},
   "outputs": [],
   "source": [
    "delitos = delitos.value_counts('barrio').reset_index(\n",
    "    name='CANTIDAD').rename(columns={'barrio': 'BARRIO'})\n",
    "delitos.BARRIO = delitos.BARRIO.apply(lambda x: x.upper())\n",
    "delitos = delitos.merge(poblaciones, on='BARRIO', how='left')\n",
    "delitos['PUNTAJE'] = (delitos.CANTIDAD / delitos.POBLACION)*1000\n"
   ]
  },
  {
   "cell_type": "code",
   "execution_count": 4,
   "metadata": {},
   "outputs": [
    {
     "data": {
      "text/plain": [
       "LIMPIEZA Y RECOLECCIÓN                   11648\n",
       "TRÁNSITO                                  8280\n",
       "CALLES Y VEREDAS                          2687\n",
       "BARRIOS EMERGENTES                        2441\n",
       "ARBOLADO Y ESPACIOS VERDES                2287\n",
       "TRÁMITES Y SERVICIOS                      1258\n",
       "ALUMBRADO                                  830\n",
       "ORDENAMIENTO DEL ESPACIO PÚBLICO           781\n",
       "RECICLADO Y PROTECCIÓN AMBIENTAL           709\n",
       "CONTROL EDILICIO, OBRAS Y CATASTRO         495\n",
       "FISCALIZACIÓN ACTIVIDADES COMERCIALES      493\n",
       "MEDIOS DE TRANSPORTE                       464\n",
       "PLUVIALES                                  120\n",
       "SEGURIDAD                                  116\n",
       "SALUD Y SERVICIOS SOCIALES                 115\n",
       "DESARROLLO URBANO                           26\n",
       "TERRENO BALDÍO                              21\n",
       "LOTBA                                        2\n",
       "EDUCACION                                    1\n",
       "Name: categoria, dtype: int64"
      ]
     },
     "execution_count": 4,
     "metadata": {},
     "output_type": "execute_result"
    }
   ],
   "source": [
    "data.categoria.value_counts()"
   ]
  },
  {
   "cell_type": "code",
   "execution_count": 104,
   "metadata": {},
   "outputs": [],
   "source": [
    "data = data[data['domicilio_barrio'].isin([\n",
    "    'PALERMO', 'BARRACAS', 'RECOLETA', 'BELGRANO', 'CABALLITO', 'FLORES', 'ALMAGRO', 'NUÑEZ', 'PUERTO MADERO'])]\n"
   ]
  },
  {
   "cell_type": "code",
   "execution_count": 5,
   "metadata": {},
   "outputs": [],
   "source": [
    "data = data[data['categoria'].isin(['TRÁNSITO', 'LIMPIEZA Y RECOLECCIÓN', 'CALLES Y VEREDAS', 'ORDENAMIENTO DEL ESPACIO PÚBLICO','SEGURIDAD'])]"
   ]
  },
  {
   "cell_type": "code",
   "execution_count": 6,
   "metadata": {},
   "outputs": [
    {
     "data": {
      "text/plain": [
       "(23512, 17)"
      ]
     },
     "execution_count": 6,
     "metadata": {},
     "output_type": "execute_result"
    }
   ],
   "source": [
    "data.shape"
   ]
  },
  {
   "cell_type": "code",
   "execution_count": 107,
   "metadata": {},
   "outputs": [],
   "source": [
    "poblaciones = poblaciones[poblaciones['BARRIO'].isin([\n",
    "    'PALERMO', 'BARRACAS', 'RECOLETA', 'BELGRANO', 'CABALLITO', 'FLORES', 'ALMAGRO', 'NUÑEZ', 'PUERTO MADERO'])]\n"
   ]
  },
  {
   "cell_type": "code",
   "execution_count": 7,
   "metadata": {},
   "outputs": [],
   "source": [
    "data.domicilio_barrio.value_counts()\n",
    "data_counts = data.domicilio_barrio.value_counts()\n",
    "data_counts = data_counts.sort_index()\n",
    "data_counts = data_counts.values\n"
   ]
  },
  {
   "cell_type": "code",
   "execution_count": 10,
   "metadata": {},
   "outputs": [],
   "source": [
    "poblaciones['CANTIDAD_RECLAMOS'] = data_counts\n",
    "poblaciones['PUNTAJE'] = poblaciones['CANTIDAD_RECLAMOS'] / poblaciones['POBLACION'] * 100\n",
    "poblaciones =poblaciones.reset_index(drop = True)\n",
    "poblaciones.to_csv('147_merge_denuncias_total.csv', sep=';', index=False)\n",
    "poblaciones.sort_values(by=['PUNTAJE'], ascending=True)\n"
   ]
  }
 ],
 "metadata": {
  "kernelspec": {
   "display_name": "Python 3",
   "language": "python",
   "name": "python3"
  },
  "language_info": {
   "codemirror_mode": {
    "name": "ipython",
    "version": 3
   },
   "file_extension": ".py",
   "mimetype": "text/x-python",
   "name": "python",
   "nbconvert_exporter": "python",
   "pygments_lexer": "ipython3",
   "version": "3.10.2"
  },
  "orig_nbformat": 4
 },
 "nbformat": 4,
 "nbformat_minor": 2
}
